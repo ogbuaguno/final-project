{
 "cells": [
  {
   "cell_type": "code",
   "execution_count": 1,
   "id": "7288357c",
   "metadata": {},
   "outputs": [],
   "source": [
    "%load_ext autoreload\n",
    "%autoreload 2"
   ]
  },
  {
   "cell_type": "code",
   "execution_count": 2,
   "id": "5598a9d6",
   "metadata": {},
   "outputs": [],
   "source": [
    "directory = \"./Logs/\"\n",
    "save_path = \"./Saved/\""
   ]
  },
  {
   "cell_type": "code",
   "execution_count": 3,
   "id": "9c2c1d9f",
   "metadata": {},
   "outputs": [],
   "source": [
    "from load_logs import *"
   ]
  },
  {
   "cell_type": "code",
   "execution_count": 4,
   "id": "ed28a5ff",
   "metadata": {},
   "outputs": [],
   "source": [
    "import pandas as pd\n",
    "import numpy as np\n",
    "import re\n",
    "import sys\n"
   ]
  },
  {
   "cell_type": "code",
   "execution_count": 5,
   "id": "6a4f72e7",
   "metadata": {},
   "outputs": [],
   "source": [
    "logs, log_labels = load_log_files(directory)"
   ]
  },
  {
   "cell_type": "code",
   "execution_count": 6,
   "id": "8851573e",
   "metadata": {},
   "outputs": [],
   "source": [
    "save_log_file_label(save_path, logs, log_labels)"
   ]
  },
  {
   "cell_type": "code",
   "execution_count": null,
   "id": "e31fb6cb",
   "metadata": {},
   "outputs": [],
   "source": []
  }
 ],
 "metadata": {
  "kernelspec": {
   "display_name": "Python 3 (ipykernel)",
   "language": "python",
   "name": "python3"
  },
  "language_info": {
   "codemirror_mode": {
    "name": "ipython",
    "version": 3
   },
   "file_extension": ".py",
   "mimetype": "text/x-python",
   "name": "python",
   "nbconvert_exporter": "python",
   "pygments_lexer": "ipython3",
   "version": "3.9.6"
  }
 },
 "nbformat": 4,
 "nbformat_minor": 5
}
